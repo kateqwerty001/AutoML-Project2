{
 "cells": [
  {
   "cell_type": "code",
   "execution_count": 2,
   "metadata": {},
   "outputs": [],
   "source": [
    "from auto2class.optimization.optimizer_all_models import OptimizerAllModels\n",
    "from sklearn.datasets import load_breast_cancer\n",
    "import pandas as pd\n",
    "\n",
    "# Load the breast cancer dataset\n",
    "cancer = load_breast_cancer()\n",
    "\n",
    "# Create a DataFrame with feature data\n",
    "cancer_df = pd.DataFrame(cancer.data, columns=cancer.feature_names)\n",
    "\n",
    "# Add the target column to the DataFrame\n",
    "cancer_df['target'] = cancer.target"
   ]
  },
  {
   "cell_type": "code",
   "execution_count": 3,
   "metadata": {},
   "outputs": [],
   "source": [
    "test = OptimizerAllModels(cancer_df, n_iter = 3, n_repeats=1, metric_to_eval='f1')"
   ]
  },
  {
   "cell_type": "code",
   "execution_count": 4,
   "metadata": {},
   "outputs": [
    {
     "name": "stdout",
     "output_type": "stream",
     "text": [
      "---Performing hyperparameter tuning for DecisionTreeClassifier...\n",
      "Default model results: {'f1': 0.901377960246756, 'accuracy': 0.9010989010989011, 'roc_auc': 0.8973168214654282, 'clf__criterion': 'gini', 'clf__splitter': 'best', 'clf__max_depth': None, 'clf__min_samples_split': 2, 'clf__min_samples_leaf': 1, 'clf__max_features': None, 'clf__class_weight': None, 'clf__min_impurity_decrease': 0.0}\n",
      "Checked another model, results on train-set, using cross-validation: {'f1': 0.9078018575851393, 'accuracy': 0.9076923076923077, 'roc_auc': 0.929759589522903}\n",
      "Checked another model, results on train-set, using cross-validation: {'f1': 0.9230299169864475, 'accuracy': 0.9230769230769231, 'roc_auc': 0.9345388339471179}\n",
      "Checked another model, results on train-set, using cross-validation: {'f1': 0.914876338132152, 'accuracy': 0.9142857142857143, 'roc_auc': 0.9517834236769148}\n",
      "---Performing hyperparameter tuning for RandomForestClassifier...\n",
      "Default model results: {'f1': 0.9666948436179205, 'accuracy': 0.967032967032967, 'roc_auc': 0.976780185758514, 'clf__n_estimators': 100, 'clf__criterion': 'gini', 'clf__max_depth': None, 'clf__min_samples_split': 2, 'clf__min_samples_leaf': 1, 'clf__min_weight_fraction_leaf': 0.0, 'clf__max_features': 'sqrt', 'clf__bootstrap': True}\n",
      "Checked another model, results on train-set, using cross-validation: {'f1': 0.9448060926858103, 'accuracy': 0.945054945054945, 'roc_auc': 0.9880622336243639}\n",
      "Checked another model, results on train-set, using cross-validation: {'f1': 0.9515267084877864, 'accuracy': 0.9516483516483516, 'roc_auc': 0.9856726114122565}\n",
      "Checked another model, results on train-set, using cross-validation: {'f1': 0.8983728914763397, 'accuracy': 0.8989010989010989, 'roc_auc': 0.954990275996193}\n",
      "---Performing hyperparameter tuning for XGBoostClassifier...\n",
      "Default model results: {'f1': 0.9666948436179205, 'accuracy': 0.967032967032967, 'roc_auc': 0.9886480908152735, 'clf__eval_metric': None, 'clf__n_estimators': None, 'clf__max_depth': None, 'clf__learning_rate': None, 'clf__subsample': None, 'clf__colsample_bytree': None, 'clf__min_child_weight': None, 'clf__gamma': None, 'clf__reg_alpha': None, 'clf__reg_lambda': None}\n",
      "Checked another model, results on train-set, using cross-validation: {'f1': 0.9492216052709455, 'accuracy': 0.9494505494505494, 'roc_auc': 0.9894484214010841}\n",
      "Checked another model, results on train-set, using cross-validation: {'f1': 0.9358856180257284, 'accuracy': 0.9362637362637363, 'roc_auc': 0.9842864236355361}\n",
      "Checked another model, results on train-set, using cross-validation: {'f1': 0.962614531107703, 'accuracy': 0.9626373626373627, 'roc_auc': 0.9912070178342367}\n",
      "The best hyperparameters for RandomForestClassifier are:\n",
      "         f1  accuracy  ... clf__max_features clf__bootstrap\n",
      "0  0.966695  0.967033  ...              sqrt           True\n",
      "\n",
      "[1 rows x 11 columns] \n",
      "\n",
      "The best hyperparameters for DecisionTreeClassifier are:\n",
      "        f1  accuracy  ... clf__class_weight clf__min_impurity_decrease\n",
      "2  0.92303  0.923077  ...              None                        0.0\n",
      "\n",
      "[1 rows x 11 columns] \n",
      "\n",
      "The best hyperparameters for XGBoostClassifier are:\n",
      "         f1  accuracy   roc_auc  ... clf__gamma clf__reg_alpha clf__reg_lambda\n",
      "0  0.966695  0.967033  0.988648  ...        NaN           None            None\n",
      "\n",
      "[1 rows x 13 columns] \n",
      "\n"
     ]
    },
    {
     "name": "stderr",
     "output_type": "stream",
     "text": [
      "/Users/katebokhan/Desktop/AutoML-Project2/auto2class/optimization/models/xgboost_random_search.py:125: FutureWarning: The behavior of DataFrame concatenation with empty or all-NA entries is deprecated. In a future version, this will no longer exclude empty or all-NA columns when determining the result dtypes. To retain the old behavior, exclude the relevant entries before the concat operation.\n",
      "  res = pd.concat([default_results, random_results], ignore_index=True)\n"
     ]
    },
    {
     "data": {
      "text/html": [
       "<div>\n",
       "<style scoped>\n",
       "    .dataframe tbody tr th:only-of-type {\n",
       "        vertical-align: middle;\n",
       "    }\n",
       "\n",
       "    .dataframe tbody tr th {\n",
       "        vertical-align: top;\n",
       "    }\n",
       "\n",
       "    .dataframe thead th {\n",
       "        text-align: right;\n",
       "    }\n",
       "</style>\n",
       "<table border=\"1\" class=\"dataframe\">\n",
       "  <thead>\n",
       "    <tr style=\"text-align: right;\">\n",
       "      <th></th>\n",
       "      <th>Model</th>\n",
       "      <th>Best_Hyperparameters_and_Metrics</th>\n",
       "    </tr>\n",
       "  </thead>\n",
       "  <tbody>\n",
       "    <tr>\n",
       "      <th>0</th>\n",
       "      <td>RandomForest</td>\n",
       "      <td>{'f1': 0.9666948436179205, 'accuracy': 0.96703...</td>\n",
       "    </tr>\n",
       "    <tr>\n",
       "      <th>1</th>\n",
       "      <td>DecisionTree</td>\n",
       "      <td>{'f1': 0.9230299169864475, 'accuracy': 0.92307...</td>\n",
       "    </tr>\n",
       "    <tr>\n",
       "      <th>2</th>\n",
       "      <td>XGBoost</td>\n",
       "      <td>{'f1': 0.9666948436179205, 'accuracy': 0.96703...</td>\n",
       "    </tr>\n",
       "  </tbody>\n",
       "</table>\n",
       "</div>"
      ],
      "text/plain": [
       "          Model                   Best_Hyperparameters_and_Metrics\n",
       "0  RandomForest  {'f1': 0.9666948436179205, 'accuracy': 0.96703...\n",
       "1  DecisionTree  {'f1': 0.9230299169864475, 'accuracy': 0.92307...\n",
       "2       XGBoost  {'f1': 0.9666948436179205, 'accuracy': 0.96703..."
      ]
     },
     "execution_count": 4,
     "metadata": {},
     "output_type": "execute_result"
    }
   ],
   "source": [
    "test.perform_analysis()"
   ]
  },
  {
   "cell_type": "code",
   "execution_count": null,
   "metadata": {},
   "outputs": [],
   "source": []
  }
 ],
 "metadata": {
  "kernelspec": {
   "display_name": "6.86x",
   "language": "python",
   "name": "python3"
  },
  "language_info": {
   "codemirror_mode": {
    "name": "ipython",
    "version": 3
   },
   "file_extension": ".py",
   "mimetype": "text/x-python",
   "name": "python",
   "nbconvert_exporter": "python",
   "pygments_lexer": "ipython3",
   "version": "3.10.16"
  }
 },
 "nbformat": 4,
 "nbformat_minor": 2
}
