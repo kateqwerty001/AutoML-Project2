{
 "cells": [
  {
   "cell_type": "code",
   "execution_count": 1,
   "metadata": {},
   "outputs": [],
   "source": [
    "import openml\n",
    "from sklearn.preprocessing import LabelEncoder\n",
    "import pandas as pd\n",
    "\n",
    "dataset = openml.datasets.get_dataset(43903)\n",
    "X, y, _, _ = dataset.get_data(target=dataset.default_target_attribute)\n",
    "\n",
    "data = pd.DataFrame(X)\n",
    "data['target'] = y\n",
    "\n",
    "label_encoder = LabelEncoder()\n",
    "data['target'] = label_encoder.fit_transform(data['target'])"
   ]
  },
  {
   "cell_type": "code",
   "execution_count": 2,
   "metadata": {},
   "outputs": [
    {
     "name": "stdout",
     "output_type": "stream",
     "text": [
      "<class 'pandas.core.frame.DataFrame'>\n",
      "RangeIndex: 101766 entries, 0 to 101765\n",
      "Data columns (total 22 columns):\n",
      " #   Column               Non-Null Count   Dtype \n",
      "---  ------               --------------   ----- \n",
      " 0   race                 101766 non-null  object\n",
      " 1   gender               101766 non-null  object\n",
      " 2   age                  101766 non-null  object\n",
      " 3   admission_source_id  101766 non-null  object\n",
      " 4   time_in_hospital     101766 non-null  uint8 \n",
      " 5   medical_specialty    101766 non-null  object\n",
      " 6   num_lab_procedures   101766 non-null  uint8 \n",
      " 7   num_procedures       101766 non-null  uint8 \n",
      " 8   num_medications      101766 non-null  uint8 \n",
      " 9   primary_diagnosis    101766 non-null  object\n",
      " 10  number_diagnoses     101766 non-null  uint8 \n",
      " 11  max_glu_serum        101766 non-null  object\n",
      " 12  A1Cresult            101766 non-null  object\n",
      " 13  insulin              101766 non-null  object\n",
      " 14  change               101766 non-null  object\n",
      " 15  diabetesMed          101766 non-null  object\n",
      " 16  medicare             101766 non-null  bool  \n",
      " 17  medicaid             101766 non-null  bool  \n",
      " 18  had_emergency        101766 non-null  bool  \n",
      " 19  had_inpatient_days   101766 non-null  bool  \n",
      " 20  had_outpatient_days  101766 non-null  bool  \n",
      " 21  target               101766 non-null  int64 \n",
      "dtypes: bool(5), int64(1), object(11), uint8(5)\n",
      "memory usage: 10.3+ MB\n"
     ]
    }
   ],
   "source": [
    "data.info()"
   ]
  },
  {
   "cell_type": "code",
   "execution_count": 3,
   "metadata": {},
   "outputs": [],
   "source": [
    "from report.reportGenerator import ReportGenerator\n",
    "\n",
    "ReportGenerator(data, '43903').generate_report()"
   ]
  }
 ],
 "metadata": {
  "kernelspec": {
   "display_name": "6.86x",
   "language": "python",
   "name": "python3"
  },
  "language_info": {
   "codemirror_mode": {
    "name": "ipython",
    "version": 3
   },
   "file_extension": ".py",
   "mimetype": "text/x-python",
   "name": "python",
   "nbconvert_exporter": "python",
   "pygments_lexer": "ipython3",
   "version": "3.10.15"
  }
 },
 "nbformat": 4,
 "nbformat_minor": 2
}
