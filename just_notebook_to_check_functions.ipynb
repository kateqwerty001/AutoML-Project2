{
 "cells": [
  {
   "cell_type": "code",
   "execution_count": 1,
   "metadata": {},
   "outputs": [],
   "source": [
    "from preprocessing.data_preprocessor import DataPreprocessor"
   ]
  },
  {
   "cell_type": "code",
   "execution_count": 2,
   "metadata": {},
   "outputs": [],
   "source": [
    "import numpy as np\n",
    "import pandas as pd\n",
    "\n",
    "data = pd.read_csv('datasets/marketing_campaign.csv', sep='\t')"
   ]
  },
  {
   "cell_type": "code",
   "execution_count": 3,
   "metadata": {},
   "outputs": [
    {
     "name": "stdout",
     "output_type": "stream",
     "text": [
      "---------------Preprocessing the dataset---------------\n",
      "---------------Deleting redundant features--------------\n",
      "Feature: ID was considered as index. It will be removed.\n",
      "Feature: Dt_Customer is of type: text, not categorical. It will be removed, as our library does not support text columns.\n",
      "---------------Extracting Day, Month and Year--------------\n",
      "---------------Handling missing values------------------\n",
      "The missing values in the feature \"Income\" are filled with the median value.\n",
      "---------------Handling outliers------------------------\n",
      "3 outliers in the feature Year_Birth were replaced with the median value.\n",
      "8 outliers in the feature Income were replaced with the median value.\n",
      "4 outliers in the feature NumWebPurchases were replaced with the median value.\n",
      "4 outliers in the feature NumCatalogPurchases were replaced with the median value.\n",
      "9 outliers in the feature NumWebVisitsMonth were replaced with the median value.\n",
      "---------------One hot encoding of categorical features--\n",
      "---------------Dataset preprocessing is done------------\n"
     ]
    }
   ],
   "source": [
    "X, y = DataPreprocessor(data, 'Response').preprocess()"
   ]
  },
  {
   "cell_type": "code",
   "execution_count": 11,
   "metadata": {},
   "outputs": [
    {
     "name": "stdout",
     "output_type": "stream",
     "text": [
      "Accuracy: 88.84%\n",
      "              precision    recall  f1-score   support\n",
      "\n",
      "           0       0.94      0.94      0.94       396\n",
      "           1       0.52      0.52      0.52        52\n",
      "\n",
      "    accuracy                           0.89       448\n",
      "   macro avg       0.73      0.73      0.73       448\n",
      "weighted avg       0.89      0.89      0.89       448\n",
      "\n"
     ]
    }
   ],
   "source": [
    "# XGBOOST\n",
    "\n",
    "from sklearn.model_selection import train_test_split\n",
    "from xgboost import XGBClassifier\n",
    "from sklearn.metrics import accuracy_score\n",
    "from sklearn.metrics import classification_report\n",
    "\n",
    "\n",
    "X_train, X_test, y_train, y_test = train_test_split(X, y, test_size=0.2)\n",
    "\n",
    "model = XGBClassifier()\n",
    "model.fit(X_train, y_train)\n",
    "\n",
    "y_pred = model.predict(X_test)\n",
    "accuracy = accuracy_score(y_test, y_pred)\n",
    "print(\"Accuracy: %.2f%%\" % (accuracy * 100.0))\n",
    "\n",
    "print(classification_report(y_test, y_pred))\n"
   ]
  },
  {
   "cell_type": "code",
   "execution_count": null,
   "metadata": {},
   "outputs": [],
   "source": []
  }
 ],
 "metadata": {
  "kernelspec": {
   "display_name": "6.86x",
   "language": "python",
   "name": "python3"
  },
  "language_info": {
   "codemirror_mode": {
    "name": "ipython",
    "version": 3
   },
   "file_extension": ".py",
   "mimetype": "text/x-python",
   "name": "python",
   "nbconvert_exporter": "python",
   "pygments_lexer": "ipython3",
   "version": "3.10.15"
  }
 },
 "nbformat": 4,
 "nbformat_minor": 2
}
