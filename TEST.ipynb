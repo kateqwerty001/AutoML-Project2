{
 "cells": [
  {
   "cell_type": "code",
   "execution_count": 1,
   "metadata": {},
   "outputs": [],
   "source": [
    "from RandomSearchWithMetrics import RandomSearchWithMetrics\n",
    "from DecisionTreeRandomSearch import DecisionTreeRandomSearch\n",
    "from RandomForestRandomSearch import RandomForestRandomSearch\n",
    "from XGBoostRandomSearch import XGBoostRandomSearch\n",
    "from All_models_analysis import All_models_analysis\n",
    "from sklearn.datasets import load_breast_cancer\n",
    "import pandas as pd\n",
    "\n",
    "# Load the breast cancer dataset\n",
    "cancer = load_breast_cancer()\n",
    "\n",
    "# Create a DataFrame with feature data\n",
    "cancer_df = pd.DataFrame(cancer.data, columns=cancer.feature_names)\n",
    "\n",
    "# Add the target column to the DataFrame\n",
    "cancer_df['target'] = cancer.target"
   ]
  },
  {
   "cell_type": "code",
   "execution_count": 2,
   "metadata": {},
   "outputs": [],
   "source": [
    "test = All_models_analysis(cancer_df, n_iter = 3, n_repeats=1, metric_to_eval='f1')"
   ]
  },
  {
   "cell_type": "code",
   "execution_count": 3,
   "metadata": {},
   "outputs": [
    {
     "name": "stdout",
     "output_type": "stream",
     "text": [
      "The best hyperparameters for RandomForestClassifier are:\n",
      "         f1  accuracy   roc_auc clf__criterion clf__splitter clf__max_depth  \\\n",
      "5  0.938971  0.938901  0.933287        entropy          best             10   \n",
      "\n",
      "  clf__min_samples_split clf__min_samples_leaf clf__max_features  \\\n",
      "5                      5                     1              None   \n",
      "\n",
      "  clf__class_weight clf__min_impurity_decrease  \n",
      "5          balanced                        0.0   \n",
      "\n",
      "The best hyperparameters for DecisionTreeClassifier are:\n",
      "         f1  accuracy   roc_auc clf__n_estimators clf__criterion  \\\n",
      "0  0.966949  0.967033  0.969949               100           gini   \n",
      "\n",
      "  clf__max_depth clf__min_samples_split clf__min_samples_leaf  \\\n",
      "0           None                      2                     1   \n",
      "\n",
      "  clf__min_weight_fraction_leaf clf__max_features clf__bootstrap  \n",
      "0                           0.0              sqrt           True   \n",
      "\n",
      "The best hyperparameters for XGBoostClassifier are:\n",
      "        f1 accuracy   roc_auc clf__eval_metric clf__n_estimators  \\\n",
      "3  0.96044  0.96044  0.990731          logloss               100   \n",
      "\n",
      "  clf__max_depth clf__learning_rate clf__subsample clf__colsample_bytree  \\\n",
      "3             15                0.1            0.9                   0.7   \n",
      "\n",
      "  clf__min_child_weight clf__gamma clf__reg_alpha clf__reg_lambda  \n",
      "3                     3        0.2              0               1   \n",
      "\n"
     ]
    },
    {
     "name": "stderr",
     "output_type": "stream",
     "text": [
      "c:\\Users\\monik\\OneDrive\\Pulpit\\AUTOML_P2\\XGBoostRandomSearch.py:122: FutureWarning: The behavior of DataFrame concatenation with empty or all-NA entries is deprecated. In a future version, this will no longer exclude empty or all-NA columns when determining the result dtypes. To retain the old behavior, exclude the relevant entries before the concat operation.\n",
      "  res = pd.concat([default_results, random_results], ignore_index=True)\n"
     ]
    },
    {
     "data": {
      "text/html": [
       "<div>\n",
       "<style scoped>\n",
       "    .dataframe tbody tr th:only-of-type {\n",
       "        vertical-align: middle;\n",
       "    }\n",
       "\n",
       "    .dataframe tbody tr th {\n",
       "        vertical-align: top;\n",
       "    }\n",
       "\n",
       "    .dataframe thead th {\n",
       "        text-align: right;\n",
       "    }\n",
       "</style>\n",
       "<table border=\"1\" class=\"dataframe\">\n",
       "  <thead>\n",
       "    <tr style=\"text-align: right;\">\n",
       "      <th></th>\n",
       "      <th>Model</th>\n",
       "      <th>Best_Hyperparameters_and_Metrics</th>\n",
       "    </tr>\n",
       "  </thead>\n",
       "  <tbody>\n",
       "    <tr>\n",
       "      <th>0</th>\n",
       "      <td>RandomForest</td>\n",
       "      <td>{'f1': 0.9389708433505625, 'accuracy': 0.93890...</td>\n",
       "    </tr>\n",
       "    <tr>\n",
       "      <th>1</th>\n",
       "      <td>DecisionTree</td>\n",
       "      <td>{'f1': 0.9669493049774739, 'accuracy': 0.96703...</td>\n",
       "    </tr>\n",
       "    <tr>\n",
       "      <th>2</th>\n",
       "      <td>XGBoost</td>\n",
       "      <td>{'f1': 0.9604395604395605, 'accuracy': 0.96043...</td>\n",
       "    </tr>\n",
       "  </tbody>\n",
       "</table>\n",
       "</div>"
      ],
      "text/plain": [
       "          Model                   Best_Hyperparameters_and_Metrics\n",
       "0  RandomForest  {'f1': 0.9389708433505625, 'accuracy': 0.93890...\n",
       "1  DecisionTree  {'f1': 0.9669493049774739, 'accuracy': 0.96703...\n",
       "2       XGBoost  {'f1': 0.9604395604395605, 'accuracy': 0.96043..."
      ]
     },
     "execution_count": 3,
     "metadata": {},
     "output_type": "execute_result"
    }
   ],
   "source": [
    "test.perform_analysis()"
   ]
  }
 ],
 "metadata": {
  "kernelspec": {
   "display_name": "Python 3",
   "language": "python",
   "name": "python3"
  },
  "language_info": {
   "codemirror_mode": {
    "name": "ipython",
    "version": 3
   },
   "file_extension": ".py",
   "mimetype": "text/x-python",
   "name": "python",
   "nbconvert_exporter": "python",
   "pygments_lexer": "ipython3",
   "version": "3.10.7"
  }
 },
 "nbformat": 4,
 "nbformat_minor": 2
}
